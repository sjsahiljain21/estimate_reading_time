{
 "cells": [
  {
   "cell_type": "code",
   "execution_count": 19,
   "metadata": {},
   "outputs": [],
   "source": [
    "import pandas as pd"
   ]
  },
  {
   "cell_type": "code",
   "execution_count": 20,
   "metadata": {},
   "outputs": [],
   "source": [
    "# 5 mins according to medium\n",
    "\n",
    "text = \"\"\" \n",
    "With a little over a month left until what will be the most contested election in U.S. history, it is increasingly evident that America as we know it, as we have loved and loathed it, is dead. We have gone from a two-party system where we once battled ideology for the betterment of the country to one party versus one vociferous anti-American cult. What else can you call a group of people who have turned the Department of Justice on its own people, performed unnecessary medical procedures on those the president referred to as animals, labeled American cities as “anarchist jurisdictions” in order to cut federal funding to economic foes, and all but danced on the grave of an American judicial icon so they can revert space and time back to an era of undisputed White male dominance? And what’s worse: They don’t even have enough shame to hide their motives anymore.\n",
    "The entire Republican apparatus has looked the American people straight in the eye and said in the immortal words of Sheree Whitfield, “Who gone check me, boo?”\n",
    "The problem with our current state of despair is that we actively chose to miss all of the signs until now when we as a nation have reached the doorstep of fascism. You see, America has in fact been in this paranoid state of terror and fear before, ushered in by yet another infamous Republican: Joseph McCarthy. McCarthy for a not-too-brief period of time turned the State Department, CIA, and Committee on Government Operation — which he chaired — into a witch-hunting machine. He swooped into power in 1946 and rose to prominence just four years later under the belief that communists had infiltrated U.S. government agencies with the desire to shape our policies in their own image. Sound familiar? For close to a decade, McCarthy worked tirelessly to freeze out and oust public servants he deemed were working to undermine America. This of course was during a time when America feared Soviet domination unlike today’s Republicans who welcome Russian influence with open arms.\n",
    "Trump Claims “Chaos Is Coming.” Hello, It’s Already Here.\n",
    "White suburban mothers should fear their own fathers, sons, and husbands.\n",
    "Even Trump’s persistent and consistent attacks on Black celebrities, artists and influencers mirrors that of McCarthy. There honestly has never been a time when it was safe to be an outspoken Black American with a platform — not in the 1940s and 50s and not now. As McCarthy would set his sights on would-be communists he also narrowed his gaze on talents like Paul Robeson, Alice Childress and Lorraine Hansberry. Their vocal appreciation for Marxism in the light of living under Jim Crow made them certain targets. However, it wasn’t just the celebrities but also the on-the-ground activists and laborers whose activities were monitored as many were jailed and shut out due to their fight for equality. From almost day one of his administration, Trump has been mirroring McCarthy as he made an enemy of Colin Kaepernick and other Black football players for taking a knee, attacked Congresswoman Maxine Waters intellect, verbally harassed Black women reporters and the list goes on. There is nothing White supremacists hate more than Black people with a voice.\n",
    "Trump, like McCarthy and like his current Attorney General William Barr, knows how to utilize the media to put on a show of force and despondency. This is regardless of the fact that McCarthy’s televised trials, much like the Benghazi hearings, turned up absolutely nothing. McCarthy was successful in his crusade until the pivotal moment he suggested that the Army’s lawyer, John Welch, had employed a member of the communist party. Welch’s response to the inquisition would go down in history, “Have you no sense of decency, sir, at long last? Have you left no sense of decency?”\n",
    "This is the question on millions of Americans’ lips right now — has America no decency left? No recourse but an election that is being publicly tampered with by an entire party that has no policy platform, no agenda except to pack the courts enough to have America frozen in the 1950s like a mosquito in amber.\n",
    "“If you do not learn history, you are destined to repeat it.” We don’t revere history or civics in America — maybe that’s why we continue to make the same mistakes over and over again and why Republicans never have to stray too far from their dusty playbook. Create an enemy of a vulnerable community of people, instill fear in the public, rinse and repeat. In just four years, America has turned on its own people and made a mockery of our democracy. A democracy is simply a government for and by the people — so, what does it mean that the president of said democracy no longer wants the people to decide the election but instead looks to a democracy via federal courts stacked with right-wing ideological activists? At the core of any democracy is trust in the people. Trust in our ability to know right from wrong and to steer the country in what we believe is the best direction for future generations. What happens, then, when we can no longer distinguish truth from fallacy and up from down? What happens when we are led into chaotic tempest of gaslighting and villainous disregard for the rule of law? Simple: The people revolt. Pressure makes either diamond or dust, and America in just a few short days needs to decide which it will be.\n",
    "Two hundred thousand of our fellow Americans are dead, not because of war but because of this president’s blatant contempt for science and facts and his desire to “downplay” a killer virus. Thirty million Americans are unemployed, half the country is on fire and another quarter underwater, and this party does nothing but blindly play follow the leader right off a cliff. Every election is consequential, but this one may, in fact, be our last. For years now, those who have tried to sound the alarm have been called hyperbolic — a bunch of Chicken Littles screaming about America’s descent into an amoral abyss.\n",
    "Rep. Adam Schiff’s closing statement during Trump’s impeachment trial made clear what is at stake:\n",
    "The American people deserve a president they can count on to put their interests first, to put their interests first. Colonel Vindman said, “Here, right matters. Here, right matters.” Well, let me tell you something, if right doesn’t matter, if right doesn’t matter, it doesn’t matter how good the Constitution is. It doesn’t matter how brilliant the framers were. Doesn’t matter how good or bad our advocacy in this trial is. Doesn’t matter how well written the Oath of Impartiality is. If right doesn’t matter, we’re lost.\n",
    "America, have you no decency left? We’ll soon find out.\"\"\""
   ]
  },
  {
   "cell_type": "code",
   "execution_count": 21,
   "metadata": {},
   "outputs": [],
   "source": [
    "from nltk.tokenize import word_tokenize\n",
    "word_tokenised = word_tokenize(text)"
   ]
  },
  {
   "cell_type": "code",
   "execution_count": 22,
   "metadata": {},
   "outputs": [
    {
     "name": "stdout",
     "output_type": "stream",
     "text": [
      "5 Minutes\n"
     ]
    }
   ],
   "source": [
    "# Average speed taken: 250 words per minute\n",
    "\n",
    "print(str(round(len(word_tokenised)/250)) + \" \" + 'Minutes')"
   ]
  }
 ],
 "metadata": {
  "kernelspec": {
   "display_name": "estimate_reading_time",
   "language": "python",
   "name": "estimate_reading_time"
  },
  "language_info": {
   "codemirror_mode": {
    "name": "ipython",
    "version": 3
   },
   "file_extension": ".py",
   "mimetype": "text/x-python",
   "name": "python",
   "nbconvert_exporter": "python",
   "pygments_lexer": "ipython3",
   "version": "3.7.7"
  }
 },
 "nbformat": 4,
 "nbformat_minor": 4
}
